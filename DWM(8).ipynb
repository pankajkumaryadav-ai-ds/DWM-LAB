{
  "nbformat": 4,
  "nbformat_minor": 0,
  "metadata": {
    "colab": {
      "name": "DWM(8).ipynb",
      "provenance": [],
      "authorship_tag": "ABX9TyMnYUvksGlS8LHGU+MkRwQ+",
      "include_colab_link": true
    },
    "kernelspec": {
      "name": "python3",
      "display_name": "Python 3"
    },
    "language_info": {
      "name": "python"
    }
  },
  "cells": [
    {
      "cell_type": "markdown",
      "metadata": {
        "id": "view-in-github",
        "colab_type": "text"
      },
      "source": [
        "<a href=\"https://colab.research.google.com/github/pankajkumaryadav-ai-ds/DWM-LAB/blob/main/DWM(8).ipynb\" target=\"_parent\"><img src=\"https://colab.research.google.com/assets/colab-badge.svg\" alt=\"Open In Colab\"/></a>"
      ]
    },
    {
      "cell_type": "code",
      "execution_count": 15,
      "metadata": {
        "colab": {
          "base_uri": "https://localhost:8080/"
        },
        "id": "RGSCHB-p1dcv",
        "outputId": "a32cd5ef-dc6e-449b-fd00-2643a80e8538"
      },
      "outputs": [
        {
          "output_type": "stream",
          "name": "stdout",
          "text": [
            "[2 2 0 1 1 1 0 2 2 1 2 0 0 1]\n",
            "Temp: [1 1 1 2 0 0 0 2 0 2 2 2 1 2]\n",
            "Play: [0 0 1 1 1 0 1 0 1 1 1 1 1 0]\n",
            "[(2, 1), (2, 1), (0, 1), (1, 2), (1, 0), (1, 0), (0, 0), (2, 2), (2, 0), (1, 2), (2, 2), (0, 2), (0, 1), (1, 2)]\n",
            "Predicted Value: [1]\n"
          ]
        }
      ],
      "source": [
        "# Apply Naïve Bayes Classification algorithm on any dataset.\n",
        "\n",
        "# Assigning features and label variables\n",
        "wheather=['Sunny','Sunny','Overcast','Rainy','Rainy','Rainy','Overcast','Sunny','Sunny',\n",
        "'Rainy','Sunny','Overcast','Overcast','Rainy']\n",
        "temp=['Hot','Hot','Hot','Mild','Cool','Cool','Cool','Mild','Cool','Mild','Mild','Mild','Hot','Mild']\n",
        "\n",
        "play=['No','No','Yes','Yes','Yes','No','Yes','No','Yes','Yes','Yes','Yes','Yes','No']\n",
        "\n",
        "from sklearn import preprocessing# Import LabelEncoder\n",
        "le=preprocessing.LabelEncoder()#creating labelEncoder\n",
        "wheather_encoded=le.fit_transform(wheather)# Converting whether string labels into numbers\n",
        "temp_encoded=le.fit_transform(temp)# Converting temp string labels into numbers\n",
        "label=le.fit_transform(play)# Converting play string labels into numbers\n",
        "print(wheather_encoded)\n",
        "print(\"Temp:\",temp_encoded)\n",
        "print(\"Play:\",label)\n",
        "\n",
        "features=list(zip(wheather_encoded,temp_encoded))#Combinig weather and temp into single list of tuples\n",
        "print(features)\n",
        "\n",
        "from sklearn.naive_bayes import GaussianNB#Import Gaussian Naive Bayes model\n",
        "model = GaussianNB()#Create a Gaussian Classifier\n",
        "model.fit(features,label)# Train the model using the training sets\n",
        "\n",
        "#Predict Output\n",
        "predicted= model.predict([[0, 2]])# 0:Overcast, 2:Mild\n",
        "print (\"Predicted Value:\", predicted)"
      ]
    },
    {
      "cell_type": "code",
      "source": [
        "# Apply Naïve Bayes Classification algorithm on Wine dataset\n",
        "\n",
        "#Import scikit-learn dataset library\n",
        "from sklearn import datasets\n",
        "wine = datasets.load_wine()#Load dataset\n",
        "\n",
        "print(\"Features: \", wine.feature_names)# print the names of the 13 features\n",
        "print(\"Labels: \", wine.target_names)# print the label type of wine(class_0, class_1, class_2)\n",
        "\n",
        "wine.data.shape# print data(feature)shape\n",
        "\n",
        "print(wine.data[0:5])# print the wine data features (top 5 records)\n",
        "print(wine.target)# print the wine labels (0:Class_0, 1:class_2, 2:class_2)\n",
        "\n",
        "from sklearn.model_selection import train_test_split # Import train_test_split function\n",
        "\n",
        "# Split dataset into training set and test set\n",
        "X_train, X_test,y_train,y_test=train_test_split(wine.data,wine.target,test_size=0.3,random_state=109)# 70% training and 30% test\n",
        "\n",
        "from sklearn.naive_bayes import GaussianNB#Import Gaussian Naive Bayes model\n",
        "gnb = GaussianNB() #Create a Gaussian Classifier\n",
        "gnb.fit(X_train, y_train)#Train the model using the training sets\n",
        "\n",
        "y_pred = gnb.predict(X_test) #Predict the response for test dataset\n",
        "\n",
        "from sklearn import metrics #Import scikit-learn metrics module for accuracy calculation\n",
        "\n",
        "# Model Accuracy, how often is the classifier correct?\n",
        "print(\"Accuracy:\",metrics.accuracy_score(y_test, y_pred))\n"
      ],
      "metadata": {
        "colab": {
          "base_uri": "https://localhost:8080/"
        },
        "id": "edCwXjUJ1zWa",
        "outputId": "da1345eb-a53a-4c22-efca-1700a07f2b12"
      },
      "execution_count": 19,
      "outputs": [
        {
          "output_type": "stream",
          "name": "stdout",
          "text": [
            "Features:  ['alcohol', 'malic_acid', 'ash', 'alcalinity_of_ash', 'magnesium', 'total_phenols', 'flavanoids', 'nonflavanoid_phenols', 'proanthocyanins', 'color_intensity', 'hue', 'od280/od315_of_diluted_wines', 'proline']\n",
            "Labels:  ['class_0' 'class_1' 'class_2']\n",
            "[[1.423e+01 1.710e+00 2.430e+00 1.560e+01 1.270e+02 2.800e+00 3.060e+00\n",
            "  2.800e-01 2.290e+00 5.640e+00 1.040e+00 3.920e+00 1.065e+03]\n",
            " [1.320e+01 1.780e+00 2.140e+00 1.120e+01 1.000e+02 2.650e+00 2.760e+00\n",
            "  2.600e-01 1.280e+00 4.380e+00 1.050e+00 3.400e+00 1.050e+03]\n",
            " [1.316e+01 2.360e+00 2.670e+00 1.860e+01 1.010e+02 2.800e+00 3.240e+00\n",
            "  3.000e-01 2.810e+00 5.680e+00 1.030e+00 3.170e+00 1.185e+03]\n",
            " [1.437e+01 1.950e+00 2.500e+00 1.680e+01 1.130e+02 3.850e+00 3.490e+00\n",
            "  2.400e-01 2.180e+00 7.800e+00 8.600e-01 3.450e+00 1.480e+03]\n",
            " [1.324e+01 2.590e+00 2.870e+00 2.100e+01 1.180e+02 2.800e+00 2.690e+00\n",
            "  3.900e-01 1.820e+00 4.320e+00 1.040e+00 2.930e+00 7.350e+02]]\n",
            "[0 0 0 0 0 0 0 0 0 0 0 0 0 0 0 0 0 0 0 0 0 0 0 0 0 0 0 0 0 0 0 0 0 0 0 0 0\n",
            " 0 0 0 0 0 0 0 0 0 0 0 0 0 0 0 0 0 0 0 0 0 0 1 1 1 1 1 1 1 1 1 1 1 1 1 1 1\n",
            " 1 1 1 1 1 1 1 1 1 1 1 1 1 1 1 1 1 1 1 1 1 1 1 1 1 1 1 1 1 1 1 1 1 1 1 1 1\n",
            " 1 1 1 1 1 1 1 1 1 1 1 1 1 1 1 1 1 1 1 2 2 2 2 2 2 2 2 2 2 2 2 2 2 2 2 2 2\n",
            " 2 2 2 2 2 2 2 2 2 2 2 2 2 2 2 2 2 2 2 2 2 2 2 2 2 2 2 2 2 2]\n",
            "Accuracy: 0.9074074074074074\n"
          ]
        }
      ]
    },
    {
      "cell_type": "code",
      "source": [
        ""
      ],
      "metadata": {
        "id": "oTInWaYp37h2"
      },
      "execution_count": null,
      "outputs": []
    }
  ]
}