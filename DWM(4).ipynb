{
  "nbformat": 4,
  "nbformat_minor": 0,
  "metadata": {
    "colab": {
      "name": "DWM(4).ipynb",
      "provenance": [],
      "authorship_tag": "ABX9TyNd1E+/90khTra2pA0jOup/",
      "include_colab_link": true
    },
    "kernelspec": {
      "name": "python3",
      "display_name": "Python 3"
    },
    "language_info": {
      "name": "python"
    }
  },
  "cells": [
    {
      "cell_type": "markdown",
      "metadata": {
        "id": "view-in-github",
        "colab_type": "text"
      },
      "source": [
        "<a href=\"https://colab.research.google.com/github/pankajkumaryadav-ai-ds/DWM-LAB/blob/main/DWM(4).ipynb\" target=\"_parent\"><img src=\"https://colab.research.google.com/assets/colab-badge.svg\" alt=\"Open In Colab\"/></a>"
      ]
    },
    {
      "cell_type": "code",
      "execution_count": 1,
      "metadata": {
        "colab": {
          "base_uri": "https://localhost:8080/"
        },
        "id": "J2nt0nHQdYWi",
        "outputId": "e38139b9-f0a0-4b23-b1a9-ee9d87640b52"
      },
      "outputs": [
        {
          "output_type": "stream",
          "name": "stdout",
          "text": [
            "[[0. 1. 0.]\n",
            " [1. 0. 0.]\n",
            " [0. 0. 1.]\n",
            " [1. 0. 0.]\n",
            " [0. 0. 1.]\n",
            " [0. 1. 0.]\n",
            " [1. 0. 0.]\n",
            " [0. 1. 0.]\n",
            " [0. 0. 1.]\n",
            " [0. 1. 0.]]\n",
            "[[1. 0.]\n",
            " [0. 1.]\n",
            " [1. 0.]\n",
            " [1. 0.]\n",
            " [0. 1.]\n",
            " [0. 1.]\n",
            " [1. 0.]\n",
            " [0. 1.]\n",
            " [1. 0.]\n",
            " [0. 1.]]\n"
          ]
        }
      ],
      "source": [
        "# a) Dealing with categorical data\n",
        "import pandas as pd\n",
        "import io\n",
        "dataset=pd.read_excel(\"/content/Salary.xlsx\")\n",
        "X=dataset.iloc[:,[0]].values\n",
        "Y=dataset.iloc[:,[3]].values\n",
        "from sklearn.preprocessing import OneHotEncoder\n",
        "onehotencoder=OneHotEncoder()\n",
        "ohe_X=onehotencoder.fit_transform(X)\n",
        "ohe_Y=onehotencoder.fit_transform(Y)\n",
        "X=ohe_X.toarray()\n",
        "Y=ohe_Y.toarray()\n",
        "print(X)\n",
        "print(Y)"
      ]
    },
    {
      "cell_type": "code",
      "source": [
        "import numpy as np\n",
        "from sklearn.preprocessing import StandardScaler\n",
        "sc_X=StandardScaler()\n",
        "X_train=sc_X.fit_transform(X_train)\n",
        "X_test=sc_X.transform(X_test)\n",
        "sc_y=StandardScaler()\n",
        "Y_train=Y_train.values.reshape((len(Y_train),1))\n",
        "Y_train=sc_y.fit_transform(Y_train)\n",
        "Y_train =Y_train.ravel()\n",
        "print(X_train)\n",
        "print(Y_train)\n",
        "print(X_test)\n",
        "print(Y_test)"
      ],
      "metadata": {
        "id": "GJPOTE4Fgleh",
        "outputId": "8253de28-a611-44d7-988d-2073ebcf5327",
        "colab": {
          "base_uri": "https://localhost:8080/"
        }
      },
      "execution_count": 11,
      "outputs": [
        {
          "output_type": "stream",
          "name": "stdout",
          "text": [
            "[[-0.77459667  1.         -0.37796447         nan         nan]\n",
            " [ 1.29099445 -1.         -0.37796447 -1.                 nan]\n",
            " [ 1.29099445 -1.         -0.37796447         nan         nan]\n",
            " [-0.77459667  1.         -0.37796447         nan         nan]\n",
            " [-0.77459667 -1.          2.64575131  1.          0.        ]\n",
            " [-0.77459667  1.         -0.37796447         nan         nan]\n",
            " [-0.77459667  1.         -0.37796447         nan         nan]\n",
            " [ 1.29099445 -1.         -0.37796447         nan         nan]]\n",
            "[ 1. -1. -1.  1. -1.  1. -1.  1.]\n",
            "[[-7.74596669e-01 -1.00000000e+00  2.64575131e+00             nan\n",
            "  -8.69766667e+03]\n",
            " [-7.74596669e-01 -1.00000000e+00  2.64575131e+00             nan\n",
            "              nan]]\n",
            "4    1\n",
            "8    0\n",
            "Name: OnlineShopper, dtype: int64\n"
          ]
        }
      ]
    },
    {
      "cell_type": "code",
      "source": [
        "np.shape(X_test)"
      ],
      "metadata": {
        "id": "Zu0FjcMp06Ik",
        "outputId": "41d9560f-3c20-4461-9bb6-2318229d1075",
        "colab": {
          "base_uri": "https://localhost:8080/"
        }
      },
      "execution_count": 16,
      "outputs": [
        {
          "output_type": "execute_result",
          "data": {
            "text/plain": [
              "(2, 5)"
            ]
          },
          "metadata": {},
          "execution_count": 16
        }
      ]
    },
    {
      "cell_type": "code",
      "source": [
        "# c) Splitting dataset into Training and Testing Sets\n",
        "import pandas as pd\n",
        "from sklearn.model_selection import train_test_split\n",
        "dataset=pd.read_csv('/content/Pre_Salary.csv')\n",
        "print(dataset)\n",
        "#output vector\n",
        "y=dataset.OnlineShopper\n",
        "\n",
        "#input vector\n",
        "x=dataset.drop('OnlineShopper',axis=1)\n",
        "#split\n",
        "X_train,X_test,Y_train,Y_test=train_test_split(x,y,test_size=0.2)\n",
        "#verify\n",
        "print(\"shape of original dataset:\",dataset.shape)\n",
        "print(\"shape of input-training set\",X_train.shape)\n",
        "print(\"shape of output-training set\",Y_train.shape)\n",
        "print(\"shape of input-testing set\",X_test.shape)\n",
        "print(\"shape of output-testing set\",Y_test.shape)"
      ],
      "metadata": {
        "id": "c3uVpX4ljTLZ",
        "colab": {
          "base_uri": "https://localhost:8080/"
        },
        "outputId": "0b2fc316-fc3f-4637-bb0b-151e17a0ce6e"
      },
      "execution_count": 10,
      "outputs": [
        {
          "output_type": "stream",
          "name": "stdout",
          "text": [
            "   zero  one  two        Age       Salary  OnlineShopper\n",
            "0     0    1    0        NaN          NaN              0\n",
            "1     1    0    0        NaN          NaN              1\n",
            "2     0    0    1  52.560000  85231.00000              0\n",
            "3     1    0    0        NaN          NaN              0\n",
            "4     0    0    1        NaN  76533.33333              1\n",
            "5     0    1    0        NaN          NaN              1\n",
            "6     1    0    0  43.777778          NaN              0\n",
            "7     0    1    0        NaN          NaN              1\n",
            "8     0    0    1        NaN          NaN              0\n",
            "9     0    1    0        NaN          NaN              1\n",
            "shape of original dataset: (10, 6)\n",
            "shape of input-training set (8, 5)\n",
            "shape of output-training set (8,)\n",
            "shape of input-testing set (2, 5)\n",
            "shape of output-testing set (2,)\n"
          ]
        }
      ]
    },
    {
      "cell_type": "code",
      "source": [
        ""
      ],
      "metadata": {
        "id": "irJwjGP2oj4z"
      },
      "execution_count": null,
      "outputs": []
    }
  ]
}