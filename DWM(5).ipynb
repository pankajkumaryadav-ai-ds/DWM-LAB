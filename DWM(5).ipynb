{
  "nbformat": 4,
  "nbformat_minor": 0,
  "metadata": {
    "colab": {
      "name": "DWM(5).ipynb",
      "provenance": [],
      "authorship_tag": "ABX9TyPN1Ye/GtQqaGv4dHt2k+iv",
      "include_colab_link": true
    },
    "kernelspec": {
      "name": "python3",
      "display_name": "Python 3"
    },
    "language_info": {
      "name": "python"
    }
  },
  "cells": [
    {
      "cell_type": "markdown",
      "metadata": {
        "id": "view-in-github",
        "colab_type": "text"
      },
      "source": [
        "<a href=\"https://colab.research.google.com/github/pankajkumaryadav-ai-ds/DWM-LAB/blob/main/DWM(5).ipynb\" target=\"_parent\"><img src=\"https://colab.research.google.com/assets/colab-badge.svg\" alt=\"Open In Colab\"/></a>"
      ]
    },
    {
      "cell_type": "code",
      "execution_count": 1,
      "metadata": {
        "colab": {
          "base_uri": "https://localhost:8080/",
          "height": 298
        },
        "id": "WtIAjVuOo9Ea",
        "outputId": "1033402f-4190-46db-e2fd-7a876493abb8"
      },
      "outputs": [
        {
          "output_type": "display_data",
          "data": {
            "text/plain": [
              "<Figure size 432x288 with 1 Axes>"
            ],
            "image/png": "[encoded data removed]"
          },
          "metadata": {
            "needs_background": "light"
          }
        },
        {
          "output_type": "stream",
          "name": "stdout",
          "text": [
            "Pearsonsc orrelation:0.810\n"
          ]
        }
      ],
      "source": [
        "# a) Pearson’s Correlation\n",
        "import numpy as np\n",
        "from scipy.stats import pearsonr# used to find Pearson correlation coefficient\n",
        "import matplotlib.pyplot as plt\n",
        "\n",
        "np.random.seed(42)# The seed() method initializes the basic random number generator\n",
        "# prepare data\n",
        "x=np.random.randn(15)\n",
        "y=x+np.random.randn(15)\n",
        "# plot x and y\n",
        "plt.scatter(x,y)\n",
        "\n",
        "#polyfit() method fits our data inside a polynomial function\n",
        "#returns the unique values from the given lists\n",
        "plt.plot(np.unique(x),np.poly1d(np.polyfit(x,y,1))(np.unique(x)))\n",
        "plt.xlabel('x')\n",
        "plt.ylabel('y')\n",
        "plt.show()\n",
        "# calculate Pearson's correlation                                                             \n",
        "corr,_=pearsonr(x,y)\n",
        "print('Pearsonsc orrelation:%.3f'%corr)\n"
      ]
    },
    {
      "cell_type": "code",
      "source": [
        "# b) Cosine Similarity\n",
        "# import required libraries\n",
        "import numpy as np\n",
        "from numpy.linalg import norm\n",
        "\n",
        "# define two lists or array\n",
        "A  = np.array([2,1,2,3,2,9])\n",
        "B = np.array([3,4,2,4,5,5])\n",
        "# compute cosine similarity\n",
        "cosine = np.dot(A,B)/(norm(A)*norm(B))\n",
        "print(\"Cosine.Similarity:\",cosine)"
      ],
      "metadata": {
        "colab": {
          "base_uri": "https://localhost:8080/"
        },
        "id": "k15TaB7Mq1eJ",
        "outputId": "43af509c-533e-443a-e413-0175dffea2f4"
      },
      "execution_count": 2,
      "outputs": [
        {
          "output_type": "stream",
          "name": "stdout",
          "text": [
            "Cosine.Similarity: 0.8188504723485274\n"
          ]
        }
      ]
    },
    {
      "cell_type": "code",
      "source": [
        "# c) Jaccard Similarity\n",
        "def jaccard_similarity(list1, list2):\n",
        "    s1=set(list1)\n",
        "    s2=set(list2)\n",
        "    return float(len(s1.intersection(s2))/len(s1.union(s2)))\n",
        "list1=['dog','cat','cat','rat']\n",
        "list2=['dog','cat','mouse']\n",
        "jaccard_similarity(list1,list2)"
      ],
      "metadata": {
        "colab": {
          "base_uri": "https://localhost:8080/"
        },
        "id": "ctv9fhtprO7X",
        "outputId": "be5b1c94-4f4a-45b3-d325-266036285557"
      },
      "execution_count": 7,
      "outputs": [
        {
          "output_type": "execute_result",
          "data": {
            "text/plain": [
              "0.5"
            ]
          },
          "metadata": {},
          "execution_count": 7
        }
      ]
    },
    {
      "cell_type": "code",
      "source": [
        "# d) Euclidean Distance\n",
        "import numpy as np\n",
        "# initializing points in\n",
        "point1 = np.array((1,2,3))\n",
        "point2=np.array((1,1,1))\n",
        "\n",
        "#finding sum of squares\n",
        "sum_sq=np.sum(np.square(point1-point2))\n",
        "\n",
        "#Doing squareroot and\n",
        "#printing Euclidean distance\n",
        "\n",
        "print(np.sqrt(sum_sq))"
      ],
      "metadata": {
        "colab": {
          "base_uri": "https://localhost:8080/"
        },
        "id": "XGRoN1qmrrk0",
        "outputId": "de124bf4-10a7-4bc3-f634-85b4d85be685"
      },
      "execution_count": 8,
      "outputs": [
        {
          "output_type": "stream",
          "name": "stdout",
          "text": [
            "2.23606797749979\n"
          ]
        }
      ]
    },
    {
      "cell_type": "code",
      "source": [
        "# e) Manhattan Distance\n",
        "from scipy.spatial import distance\n",
        "a = (1, 0, 2, 3)\n",
        "b = (4, 4, 3, 1)\n",
        "# mahattan distance b/w a and b\n",
        "d = distance.cityblock(a, b)\n",
        "print(d) "
      ],
      "metadata": {
        "colab": {
          "base_uri": "https://localhost:8080/"
        },
        "id": "baH4aJA2sMD1",
        "outputId": "6e809a64-c509-4cb4-ea3c-bd9612ca0dd8"
      },
      "execution_count": 10,
      "outputs": [
        {
          "output_type": "stream",
          "name": "stdout",
          "text": [
            "10\n"
          ]
        }
      ]
    }
  ]
}