{
  "nbformat": 4,
  "nbformat_minor": 0,
  "metadata": {
    "colab": {
      "name": "DWM(1).ipynb",
      "provenance": [],
      "authorship_tag": "ABX9TyNNAgJHn17G86ML8o/kGcKn",
      "include_colab_link": true
    },
    "kernelspec": {
      "name": "python3",
      "display_name": "Python 3"
    },
    "language_info": {
      "name": "python"
    }
  },
  "cells": [
    {
      "cell_type": "markdown",
      "metadata": {
        "id": "view-in-github",
        "colab_type": "text"
      },
      "source": [
        "<a href=\"https://colab.research.google.com/github/pankajkumaryadav-ai-ds/DWM-LAB/blob/main/DWM(1).ipynb\" target=\"_parent\"><img src=\"https://colab.research.google.com/assets/colab-badge.svg\" alt=\"Open In Colab\"/></a>"
      ]
    },
    {
      "cell_type": "code",
      "execution_count": 3,
      "metadata": {
        "colab": {
          "base_uri": "https://localhost:8080/"
        },
        "id": "1K6GKpqojmrk",
        "outputId": "d8110263-03e7-4561-8ed4-c15265604ce4"
      },
      "outputs": [
        {
          "output_type": "stream",
          "name": "stdout",
          "text": [
            "shape: (3, 3)\n",
            "dimensions: 2\n"
          ]
        }
      ],
      "source": [
        "# a) Create multi-dimensional arrays and find its shape and dimension\n",
        "import numpy as np\n",
        "#importing NumPy with alias np\n",
        "a=np.array([[1,2,3],[2,3,4],[3,4,5]])#creation of multi-dimensional array with array() method\n",
        "# shape\n",
        "b=a.shape# b=np.shape(a), here shape is a method which returns number of dimensions and number of values each dimension is holding\n",
        "print(\"shape:\",b)#print(\"shape:\",a.shape)\n",
        "# dimension\n",
        "c=a.ndim #ndim() is a method which returns the dimension of the given Array\n",
        "print(\"dimensions:\",a.ndim)\n"
      ]
    },
    {
      "cell_type": "code",
      "source": [
        "# b) Create a matrix full of zeros and ones \n",
        "#matrix full of zeros\n",
        "#zeros() is a method which creates zeros with specified array shape\n",
        "z=np.zeros((2,2))\n",
        "print(\"zeros:\",z)\n",
        "#matrix full of ones\n",
        "#ones() is a method which creates ones with specified array shape\n",
        "o=np.ones((2,2))\n",
        "print(\"ones:\",o)"
      ],
      "metadata": {
        "id": "U9gXVRZTn3W4",
        "colab": {
          "base_uri": "https://localhost:8080/"
        },
        "outputId": "f382b606-49b2-4c19-914f-4c4d8cbfb0dd"
      },
      "execution_count": 10,
      "outputs": [
        {
          "output_type": "stream",
          "name": "stdout",
          "text": [
            "zeros: [[0. 0.]\n",
            " [0. 0.]]\n",
            "ones: [[1. 1.]\n",
            " [1. 1.]]\n"
          ]
        }
      ]
    },
    {
      "cell_type": "code",
      "source": [
        "# c) Reshape and flatten data in the array \n",
        "#matrix reshape\n",
        "a=np.array([[1,2,3,4],[2,3,4,5],[3,4,5,6],[4,5,6,7]])\n",
        "#get a new shape to an array without changing its data\n",
        "b=a.reshape(4,2,2)\n",
        "print(\"original:\",a)\n",
        "print(\"Reshape:\",b)\n",
        "#matrix flatten\n",
        "#doesn’t change contents of an existing array. Instead, it returns a new flat array. \n",
        "c=a.flatten()\n",
        "print(\"flatten:\",c)"
      ],
      "metadata": {
        "colab": {
          "base_uri": "https://localhost:8080/"
        },
        "id": "bIuKXEXGpZum",
        "outputId": "c6e67af2-85ea-4e1d-b9bf-dbba8826d88d"
      },
      "execution_count": 12,
      "outputs": [
        {
          "output_type": "stream",
          "name": "stdout",
          "text": [
            "original: [[1 2 3 4]\n",
            " [2 3 4 5]\n",
            " [3 4 5 6]\n",
            " [4 5 6 7]]\n",
            "Reshape: [[[1 2]\n",
            "  [3 4]]\n",
            "\n",
            " [[2 3]\n",
            "  [4 5]]\n",
            "\n",
            " [[3 4]\n",
            "  [5 6]]\n",
            "\n",
            " [[4 5]\n",
            "  [6 7]]]\n",
            "flatten: [1 2 3 4 2 3 4 5 3 4 5 6 4 5 6 7]\n"
          ]
        }
      ]
    },
    {
      "cell_type": "code",
      "source": [
        "# d) Append data vertically and horizontally \n",
        "#Appending data vertically\n",
        "x=np.array([[10,20],[80,90]])\n",
        "y=np.array([[30,40],[60,70]])\n",
        "# Using the vstack() function, items of arrays are arranged vertically\n",
        "v=np.vstack((x,y))\n",
        "print(\"vertically:\",v)\n",
        "#Appending data horizontally\n",
        "# Using the hstack() function, items of arrays are arranged horizontally\n",
        "h=np.hstack((x,y))\n",
        "print(\"horizontally:\",h)"
      ],
      "metadata": {
        "colab": {
          "base_uri": "https://localhost:8080/"
        },
        "id": "6hlnDwnRqxnM",
        "outputId": "e7d3334a-d655-41a3-9196-70fd874bcbba"
      },
      "execution_count": 14,
      "outputs": [
        {
          "output_type": "stream",
          "name": "stdout",
          "text": [
            "vertically: [[10 20]\n",
            " [80 90]\n",
            " [30 40]\n",
            " [60 70]]\n",
            "horizontally: [[10 20 30 40]\n",
            " [80 90 60 70]]\n"
          ]
        }
      ]
    },
    {
      "cell_type": "code",
      "source": [
        "# e) Apply indexing and slicing on array \n",
        "#indexing\n",
        "a=np.array([[1,2,3,4],[2,3,4,5],[3,4,5,6],[4,5,6,7]])\n",
        "temp=a[[0,1,2,3],[1,1,1,1]]\n",
        "print(\"indexing\",temp)\n",
        "# slicing\n",
        "i=a[:4,::2]\n",
        "print(\"slicing\",i)"
      ],
      "metadata": {
        "colab": {
          "base_uri": "https://localhost:8080/"
        },
        "id": "JCnxeE0Or4va",
        "outputId": "d6f6860d-8533-44ce-da3f-a1174ce56089"
      },
      "execution_count": 15,
      "outputs": [
        {
          "output_type": "stream",
          "name": "stdout",
          "text": [
            "indexing [2 3 4 5]\n",
            "slicing [[1 3]\n",
            " [2 4]\n",
            " [3 5]\n",
            " [4 6]]\n"
          ]
        }
      ]
    },
    {
      "cell_type": "code",
      "source": [
        "# f) Use statistical functions on array - Min, Max, Mean, Median and Standard Deviation\n",
        "a=np.array([[1,3,-1,4],[3,-2,1,4]])\n",
        "#min for finding minimum of an array\n",
        "b=a.min()\n",
        "print(\"minimum:\",b)\n",
        "#max for finding maximum of an array\n",
        "c=a.max()\n",
        "print(\"maximum:\",c)\n",
        "# mean\n",
        "a=np.array([1,2,3,4,5])\n",
        "d=a.mean()\n",
        "print(\"mean:\",d)\n",
        "# median\n",
        "e=np.median(a)\n",
        "print(\"median:\",e)\n",
        "# standard Deviation\n",
        "f=a.std()\n",
        "print(\"Standard deviation is :\",f)"
      ],
      "metadata": {
        "colab": {
          "base_uri": "https://localhost:8080/"
        },
        "id": "5-luFnoEsu-R",
        "outputId": "68a53189-89a7-4865-d9d5-07b3aec8f0d1"
      },
      "execution_count": 18,
      "outputs": [
        {
          "output_type": "stream",
          "name": "stdout",
          "text": [
            "minimum: -2\n",
            "maximum: 4\n",
            "mean: 3.0\n",
            "median: 3.0\n",
            "Standard deviation is : 1.4142135623730951\n"
          ]
        }
      ]
    }
  ]
}