{
  "nbformat": 4,
  "nbformat_minor": 0,
  "metadata": {
    "colab": {
      "name": "DWM(7).ipynb",
      "provenance": [],
      "authorship_tag": "ABX9TyNqLr6Ec95EzZ4rELK1DFrt",
      "include_colab_link": true
    },
    "kernelspec": {
      "name": "python3",
      "display_name": "Python 3"
    },
    "language_info": {
      "name": "python"
    }
  },
  "cells": [
    {
      "cell_type": "markdown",
      "metadata": {
        "id": "view-in-github",
        "colab_type": "text"
      },
      "source": [
        "<a href=\"https://colab.research.google.com/github/pankajkumaryadav-ai-ds/DWM-LAB/blob/main/DWM(7).ipynb\" target=\"_parent\"><img src=\"https://colab.research.google.com/assets/colab-badge.svg\" alt=\"Open In Colab\"/></a>"
      ]
    },
    {
      "cell_type": "code",
      "execution_count": 6,
      "metadata": {
        "colab": {
          "base_uri": "https://localhost:8080/"
        },
        "id": "VD1MdRPLxQ42",
        "outputId": "654e9071-92e8-4dec-abb9-5e119fa22264"
      },
      "outputs": [
        {
          "output_type": "execute_result",
          "data": {
            "text/plain": [
              "array([[13,  0,  0],\n",
              "       [ 0, 15,  1],\n",
              "       [ 0,  0,  9]])"
            ]
          },
          "metadata": {},
          "execution_count": 6
        }
      ],
      "source": [
        "# Build a classification model using Decision Tree algorithm on iris dataset\n",
        "from sklearn.datasets import load_iris\n",
        "from sklearn.tree import DecisionTreeClassifier\n",
        "from sklearn.model_selection import train_test_split\n",
        "from sklearn.metrics import confusion_matrix\n",
        "from sklearn.tree import export_graphviz\n",
        "# from sklearn.externals.six import StringIO \n",
        "from IPython.display import Image\n",
        "from pydot import graph_from_dot_data\n",
        "import pandas as pd\n",
        "import numpy as np\n",
        "from io import StringIO\n",
        "import six\n",
        "import sys\n",
        "sys.modules['sklearn.externals.six']=six\n",
        "iris=load_iris()\n",
        "X=pd.DataFrame(iris.data,columns=iris.feature_names)\n",
        "y=pd.Categorical.from_codes(iris.target,iris.target_names)\n",
        "X.head()\n",
        "y=pd.get_dummies(y)\n",
        "X_train,X_test,y_train,y_test=train_test_split(X,y,random_state=1)\n",
        "\n",
        "dt=DecisionTreeClassifier()\n",
        "dt.fit(X_train,y_train)\n",
        "\n",
        "dot_data=StringIO()\n",
        "export_graphviz(dt,out_file=dot_data,feature_names=iris.feature_names)\n",
        "(graph,)=graph_from_dot_data(dot_data.getvalue())\n",
        "\n",
        "Image(graph.create_png())\n",
        "\n",
        "y_pred=dt.predict(X_test)\n",
        "\n",
        "species=np.array(y_test).argmax(axis=1)\n",
        "predictions=np.array(y_pred).argmax(axis=1)\n",
        "confusion_matrix(species,predictions)"
      ]
    },
    {
      "cell_type": "code",
      "source": [
        ""
      ],
      "metadata": {
        "id": "qsN2t_fOyvoD"
      },
      "execution_count": null,
      "outputs": []
    }
  ]
}