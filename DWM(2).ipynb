{
  "nbformat": 4,
  "nbformat_minor": 0,
  "metadata": {
    "colab": {
      "name": "DWM(2).ipynb",
      "provenance": [],
      "authorship_tag": "ABX9TyPhEm67Bruot8Acy7YjL/HW",
      "include_colab_link": true
    },
    "kernelspec": {
      "name": "python3",
      "display_name": "Python 3"
    },
    "language_info": {
      "name": "python"
    }
  },
  "cells": [
    {
      "cell_type": "markdown",
      "metadata": {
        "id": "view-in-github",
        "colab_type": "text"
      },
      "source": [
        "<a href=\"https://colab.research.google.com/github/pankajkumaryadav-ai-ds/DWM-LAB/blob/main/DWM(2).ipynb\" target=\"_parent\"><img src=\"https://colab.research.google.com/assets/colab-badge.svg\" alt=\"Open In Colab\"/></a>"
      ]
    },
    {
      "cell_type": "code",
      "execution_count": 9,
      "metadata": {
        "colab": {
          "base_uri": "https://localhost:8080/",
          "height": 204
        },
        "id": "x6mC8naMxerG",
        "outputId": "818902de-8fbb-49c7-d5a6-3c36ecf2a6ac"
      },
      "outputs": [
        {
          "output_type": "execute_result",
          "data": {
            "text/plain": [
              "   INDEX   AGE   SALARY\n",
              "0      0  25.0  35000.0\n",
              "1      1  27.0  40000.0\n",
              "2      2  50.0  54000.0\n",
              "3      3  35.0      NaN\n",
              "4      4  40.0  60000.0"
            ],
            "text/html": [
              "\n",
              "  <div id=\"df-d12ec262-87dc-4829-a929-44fd18637f25\">\n",
              "    <div class=\"colab-df-container\">\n",
              "      <div>\n",
              "<style scoped>\n",
              "    .dataframe tbody tr th:only-of-type {\n",
              "        vertical-align: middle;\n",
              "    }\n",
              "\n",
              "    .dataframe tbody tr th {\n",
              "        vertical-align: top;\n",
              "    }\n",
              "\n",
              "    .dataframe thead th {\n",
              "        text-align: right;\n",
              "    }\n",
              "</style>\n",
              "<table border=\"1\" class=\"dataframe\">\n",
              "  <thead>\n",
              "    <tr style=\"text-align: right;\">\n",
              "      <th></th>\n",
              "      <th>INDEX</th>\n",
              "      <th>AGE</th>\n",
              "      <th>SALARY</th>\n",
              "    </tr>\n",
              "  </thead>\n",
              "  <tbody>\n",
              "    <tr>\n",
              "      <th>0</th>\n",
              "      <td>0</td>\n",
              "      <td>25.0</td>\n",
              "      <td>35000.0</td>\n",
              "    </tr>\n",
              "    <tr>\n",
              "      <th>1</th>\n",
              "      <td>1</td>\n",
              "      <td>27.0</td>\n",
              "      <td>40000.0</td>\n",
              "    </tr>\n",
              "    <tr>\n",
              "      <th>2</th>\n",
              "      <td>2</td>\n",
              "      <td>50.0</td>\n",
              "      <td>54000.0</td>\n",
              "    </tr>\n",
              "    <tr>\n",
              "      <th>3</th>\n",
              "      <td>3</td>\n",
              "      <td>35.0</td>\n",
              "      <td>NaN</td>\n",
              "    </tr>\n",
              "    <tr>\n",
              "      <th>4</th>\n",
              "      <td>4</td>\n",
              "      <td>40.0</td>\n",
              "      <td>60000.0</td>\n",
              "    </tr>\n",
              "  </tbody>\n",
              "</table>\n",
              "</div>\n",
              "      <button class=\"colab-df-convert\" onclick=\"convertToInteractive('df-d12ec262-87dc-4829-a929-44fd18637f25')\"\n",
              "              title=\"Convert this dataframe to an interactive table.\"\n",
              "              style=\"display:none;\">\n",
              "        \n",
              "  <svg xmlns=\"http://www.w3.org/2000/svg\" height=\"24px\"viewBox=\"0 0 24 24\"\n",
              "       width=\"24px\">\n",
              "    <path d=\"M0 0h24v24H0V0z\" fill=\"none\"/>\n",
              "    <path d=\"M18.56 5.44l.94 2.06.94-2.06 2.06-.94-2.06-.94-.94-2.06-.94 2.06-2.06.94zm-11 1L8.5 8.5l.94-2.06 2.06-.94-2.06-.94L8.5 2.5l-.94 2.06-2.06.94zm10 10l.94 2.06.94-2.06 2.06-.94-2.06-.94-.94-2.06-.94 2.06-2.06.94z\"/><path d=\"M17.41 7.96l-1.37-1.37c-.4-.4-.92-.59-1.43-.59-.52 0-1.04.2-1.43.59L10.3 9.45l-7.72 7.72c-.78.78-.78 2.05 0 2.83L4 21.41c.39.39.9.59 1.41.59.51 0 1.02-.2 1.41-.59l7.78-7.78 2.81-2.81c.8-.78.8-2.07 0-2.86zM5.41 20L4 18.59l7.72-7.72 1.47 1.35L5.41 20z\"/>\n",
              "  </svg>\n",
              "      </button>\n",
              "      \n",
              "  <style>\n",
              "    .colab-df-container {\n",
              "      display:flex;\n",
              "      flex-wrap:wrap;\n",
              "      gap: 12px;\n",
              "    }\n",
              "\n",
              "    .colab-df-convert {\n",
              "      background-color: #E8F0FE;\n",
              "      border: none;\n",
              "      border-radius: 50%;\n",
              "      cursor: pointer;\n",
              "      display: none;\n",
              "      fill: #1967D2;\n",
              "      height: 32px;\n",
              "      padding: 0 0 0 0;\n",
              "      width: 32px;\n",
              "    }\n",
              "\n",
              "    .colab-df-convert:hover {\n",
              "      background-color: #E2EBFA;\n",
              "      box-shadow: 0px 1px 2px rgba(60, 64, 67, 0.3), 0px 1px 3px 1px rgba(60, 64, 67, 0.15);\n",
              "      fill: #174EA6;\n",
              "    }\n",
              "\n",
              "    [theme=dark] .colab-df-convert {\n",
              "      background-color: #3B4455;\n",
              "      fill: #D2E3FC;\n",
              "    }\n",
              "\n",
              "    [theme=dark] .colab-df-convert:hover {\n",
              "      background-color: #434B5C;\n",
              "      box-shadow: 0px 1px 3px 1px rgba(0, 0, 0, 0.15);\n",
              "      filter: drop-shadow(0px 1px 2px rgba(0, 0, 0, 0.3));\n",
              "      fill: #FFFFFF;\n",
              "    }\n",
              "  </style>\n",
              "\n",
              "      <script>\n",
              "        const buttonEl =\n",
              "          document.querySelector('#df-d12ec262-87dc-4829-a929-44fd18637f25 button.colab-df-convert');\n",
              "        buttonEl.style.display =\n",
              "          google.colab.kernel.accessAllowed ? 'block' : 'none';\n",
              "\n",
              "        async function convertToInteractive(key) {\n",
              "          const element = document.querySelector('#df-d12ec262-87dc-4829-a929-44fd18637f25');\n",
              "          const dataTable =\n",
              "            await google.colab.kernel.invokeFunction('convertToInteractive',\n",
              "                                                     [key], {});\n",
              "          if (!dataTable) return;\n",
              "\n",
              "          const docLinkHtml = 'Like what you see? Visit the ' +\n",
              "            '<a target=\"_blank\" href=https://colab.research.google.com/notebooks/data_table.ipynb>data table notebook</a>'\n",
              "            + ' to learn more about interactive tables.';\n",
              "          element.innerHTML = '';\n",
              "          dataTable['output_type'] = 'display_data';\n",
              "          await google.colab.output.renderOutput(dataTable, element);\n",
              "          const docLink = document.createElement('div');\n",
              "          docLink.innerHTML = docLinkHtml;\n",
              "          element.appendChild(docLink);\n",
              "        }\n",
              "      </script>\n",
              "    </div>\n",
              "  </div>\n",
              "  "
            ]
          },
          "metadata": {},
          "execution_count": 9
        }
      ],
      "source": [
        "# Demonstrate the following data pre-processing tasks using python libraries.\n",
        "# a) Loading the datase\n",
        "import pandas as pd\n",
        "import numpy as np\n",
        "import io\n",
        "dataset=pd.read_csv('/content/pankaj.csv')\n",
        "dataset.head()"
      ]
    },
    {
      "cell_type": "code",
      "source": [
        "# b) Identifying the dependent and independent variables\n",
        "# attributes to determine independent variable \n",
        "X=dataset.iloc[:, :-1].values\n",
        "# dependent variable / Class\n",
        "Y=dataset.iloc[:, -1].values\n",
        "print(X)\n",
        "print(Y)"
      ],
      "metadata": {
        "id": "fnU7nQwRyBKs",
        "colab": {
          "base_uri": "https://localhost:8080/"
        },
        "outputId": "7cd53af2-8778-4a1d-aaf1-c32ec22109d7"
      },
      "execution_count": 3,
      "outputs": [
        {
          "output_type": "stream",
          "name": "stdout",
          "text": [
            "[[  0.  25.]\n",
            " [  1.  27.]\n",
            " [  2.  50.]\n",
            " [  3.  35.]\n",
            " [  4.  40.]\n",
            " [  5.  35.]\n",
            " [  6.  nan]\n",
            " [  7.  48.]\n",
            " [  8.  50.]\n",
            " [  9.  37.]\n",
            " [ 10.  21.]\n",
            " [ 11.  nan]\n",
            " [ 12. 693.]]\n",
            "[35000. 40000. 54000.    nan 60000. 58000. 52000. 79000. 83000.    nan\n",
            " 24000. 60000. 70000.]\n"
          ]
        }
      ]
    },
    {
      "cell_type": "code",
      "source": [
        "# c) Dealing with missing data\n",
        "dataset=pd.read_csv('/content/pankaj.csv')\n",
        "#select numerical variables from dataset\n",
        "num_var=dataset[['AGE','SALARY']]\n",
        "print(num_var)"
      ],
      "metadata": {
        "colab": {
          "base_uri": "https://localhost:8080/"
        },
        "id": "EY6tgMLicmhQ",
        "outputId": "22dc555e-5f28-4c8e-ae5b-dbaf4e873b98"
      },
      "execution_count": 6,
      "outputs": [
        {
          "output_type": "stream",
          "name": "stdout",
          "text": [
            "      AGE   SALARY\n",
            "0    25.0  35000.0\n",
            "1    27.0  40000.0\n",
            "2    50.0  54000.0\n",
            "3    35.0      NaN\n",
            "4    40.0  60000.0\n",
            "5    35.0  58000.0\n",
            "6     NaN  52000.0\n",
            "7    48.0  79000.0\n",
            "8    50.0  83000.0\n",
            "9    37.0      NaN\n",
            "10   21.0  24000.0\n",
            "11    NaN  60000.0\n",
            "12  693.0  70000.0\n"
          ]
        }
      ]
    },
    {
      "cell_type": "code",
      "source": [
        "# impute the missing fields in a dataset using scikit-learn library’s SimpleImputer Class \n",
        "from sklearn.impute import SimpleImputer\n",
        "# fit_transform method do calculating the mean of columns and then replacing the missing values according to it\n",
        "imp=SimpleImputer(missing_values=np.nan,strategy=\"mean\")\n",
        "X_mean=imp.fit_transform(num_var)\n",
        "print(X_mean)"
      ],
      "metadata": {
        "colab": {
          "base_uri": "https://localhost:8080/"
        },
        "id": "ivHRJISLdJnu",
        "outputId": "a1ec7522-ce53-4ca9-b639-0d53be2f189b"
      },
      "execution_count": 10,
      "outputs": [
        {
          "output_type": "stream",
          "name": "stdout",
          "text": [
            "[[2.50000000e+01 3.50000000e+04]\n",
            " [2.70000000e+01 4.00000000e+04]\n",
            " [5.00000000e+01 5.40000000e+04]\n",
            " [3.50000000e+01 5.59090909e+04]\n",
            " [4.00000000e+01 6.00000000e+04]\n",
            " [3.50000000e+01 5.80000000e+04]\n",
            " [9.64545455e+01 5.20000000e+04]\n",
            " [4.80000000e+01 7.90000000e+04]\n",
            " [5.00000000e+01 8.30000000e+04]\n",
            " [3.70000000e+01 5.59090909e+04]\n",
            " [2.10000000e+01 2.40000000e+04]\n",
            " [9.64545455e+01 6.00000000e+04]\n",
            " [6.93000000e+02 7.00000000e+04]]\n"
          ]
        }
      ]
    }
  ]
}